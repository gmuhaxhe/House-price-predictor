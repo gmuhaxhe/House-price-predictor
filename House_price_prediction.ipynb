{
 "cells": [
  {
   "cell_type": "code",
   "execution_count": 20,
   "id": "610520f3",
   "metadata": {},
   "outputs": [],
   "source": [
    "import pandas as pd\n",
    "df = pd.read_csv(\"AmesHousing.csv\")\n",
    "features_to_keep = ['Lot Area','Lot Shape','House Style','Neighborhood', 'Year Built','Bsmt Cond','Central Air','Overall Cond','Full Bath','TotRms AbvGrd','Fireplaces','Garage Area','Yr Sold','SalePrice']\n",
    "df = df[features_to_keep]\n",
    "\n",
    "# Fill Bsmt Cond (categorical feature) with 'None'\n",
    "df[\"Bsmt Cond\"] = df[\"Bsmt Cond\"].fillna(\"None\")\n",
    "\n",
    "# Fill Garage Area with 0 (assumes missing = no garage)\n",
    "df[\"Garage Area\"] = df[\"Garage Area\"].fillna(0)"
   ]
  },
  {
   "cell_type": "code",
   "execution_count": 35,
   "id": "2e194ac4",
   "metadata": {},
   "outputs": [],
   "source": [
    "from sklearn.model_selection import train_test_split\n",
    "from sklearn.compose import ColumnTransformer\n",
    "from sklearn.preprocessing import OneHotEncoder, StandardScaler\n",
    "from sklearn.pipeline import Pipeline\n",
    "from sklearn.linear_model import LinearRegression\n",
    "\n",
    "# Separate features and target\n",
    "X = df.drop(columns=[\"SalePrice\"])\n",
    "y = df[\"SalePrice\"]\n",
    "\n",
    "X_train, X_test, y_train, y_test = train_test_split(X,y,test_size=0.2,random_state=42)\n",
    "\n",
    "\n",
    "# List of categorical and numeric columns\n",
    "categorical_cols = [\"Lot Shape\", \"House Style\", \"Neighborhood\", \"Bsmt Cond\", \"Central Air\", \"Overall Cond\"]\n",
    "numeric_cols = [col for col in X.columns if col not in categorical_cols]\n",
    "\n"
   ]
  },
  {
   "cell_type": "code",
   "execution_count": 36,
   "id": "9c36be08",
   "metadata": {},
   "outputs": [],
   "source": [
    "# Transformer for preprocessing\n",
    "preprocessor = ColumnTransformer(\n",
    "    transformers=[\n",
    "        (\"num\", StandardScaler(), numeric_cols),\n",
    "        (\"cat\", OneHotEncoder(drop=\"first\", handle_unknown=\"ignore\"), categorical_cols)\n",
    "    ]\n",
    ")\n",
    "\n",
    "# Full pipeline: preprocessing + linear regression\n",
    "model = Pipeline(steps=[\n",
    "    (\"preprocessing\", preprocessor),\n",
    "    (\"regressor\", LinearRegression())\n",
    "])\n"
   ]
  },
  {
   "cell_type": "code",
   "execution_count": 37,
   "id": "3352c293",
   "metadata": {},
   "outputs": [
    {
     "name": "stdout",
     "output_type": "stream",
     "text": [
      "Mean Squared Error: 41256.59756389454\n",
      "R-squared: 0.7877023178137168\n"
     ]
    }
   ],
   "source": [
    "from sklearn.metrics import mean_squared_error, r2_score\n",
    "model.fit(X_train, y_train)\n",
    "\n",
    "y_pred = model.predict(X_test)\n",
    "\n",
    "rmse = np.sqrt(mean_squared_error(y_test, y_pred))\n",
    "r2 = r2_score(y_test, y_pred)\n",
    "\n",
    "print(\"Mean Squared Error:\", rmse)\n",
    "print(\"R-squared:\", r2)\n"
   ]
  }
 ],
 "metadata": {
  "kernelspec": {
   "display_name": "Python 3",
   "language": "python",
   "name": "python3"
  },
  "language_info": {
   "codemirror_mode": {
    "name": "ipython",
    "version": 3
   },
   "file_extension": ".py",
   "mimetype": "text/x-python",
   "name": "python",
   "nbconvert_exporter": "python",
   "pygments_lexer": "ipython3",
   "version": "3.13.2"
  }
 },
 "nbformat": 4,
 "nbformat_minor": 5
}
